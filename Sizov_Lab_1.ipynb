{
 "cells": [
  {
   "cell_type": "code",
   "execution_count": 122,
   "metadata": {},
   "outputs": [],
   "source": [
    "import pandas as pd\n",
    "import numpy as np\n",
    "import matplotlib.pyplot as plt\n",
    "from sklearn.linear_model import LinearRegression\n",
    "from sklearn.metrics import mean_squared_error, mean_absolute_error\n",
    "import statsmodels.api as sm\n",
    "import statsmodels.formula.api as smf\n",
    "from statsmodels.stats.diagnostic import het_goldfeldquandt\n",
    "from statsmodels.stats.diagnostic import het_breuschpagan"
   ]
  },
  {
   "cell_type": "markdown",
   "metadata": {},
   "source": [
    "#### В качестве данных возьмем данные о последних 30 кинофильмах, получивших «Оскар» как самый лучший фильм."
   ]
  },
  {
   "cell_type": "code",
   "execution_count": 89,
   "metadata": {
    "scrolled": true
   },
   "outputs": [
    {
     "data": {
      "text/html": [
       "<div>\n",
       "<style scoped>\n",
       "    .dataframe tbody tr th:only-of-type {\n",
       "        vertical-align: middle;\n",
       "    }\n",
       "\n",
       "    .dataframe tbody tr th {\n",
       "        vertical-align: top;\n",
       "    }\n",
       "\n",
       "    .dataframe thead th {\n",
       "        text-align: right;\n",
       "    }\n",
       "</style>\n",
       "<table border=\"1\" class=\"dataframe\">\n",
       "  <thead>\n",
       "    <tr style=\"text-align: right;\">\n",
       "      <th></th>\n",
       "      <th>Name</th>\n",
       "      <th>Year</th>\n",
       "      <th>Rat</th>\n",
       "      <th>Length</th>\n",
       "      <th>Genre</th>\n",
       "      <th>Budget</th>\n",
       "      <th>box_office</th>\n",
       "    </tr>\n",
       "  </thead>\n",
       "  <tbody>\n",
       "    <tr>\n",
       "      <th>0</th>\n",
       "      <td>Форма воды</td>\n",
       "      <td>2017</td>\n",
       "      <td>6.914</td>\n",
       "      <td>123</td>\n",
       "      <td>фантастика, драма</td>\n",
       "      <td>19.4</td>\n",
       "      <td>195.243464</td>\n",
       "    </tr>\n",
       "    <tr>\n",
       "      <th>1</th>\n",
       "      <td>Лунный свет</td>\n",
       "      <td>2016</td>\n",
       "      <td>6.151</td>\n",
       "      <td>110</td>\n",
       "      <td>драма</td>\n",
       "      <td>1.5</td>\n",
       "      <td>65.046687</td>\n",
       "    </tr>\n",
       "    <tr>\n",
       "      <th>2</th>\n",
       "      <td>В центре внимания</td>\n",
       "      <td>2015</td>\n",
       "      <td>7.489</td>\n",
       "      <td>129</td>\n",
       "      <td>драма, криминал, история</td>\n",
       "      <td>20.0</td>\n",
       "      <td>88.346473</td>\n",
       "    </tr>\n",
       "    <tr>\n",
       "      <th>3</th>\n",
       "      <td>Бёрдмэн</td>\n",
       "      <td>2014</td>\n",
       "      <td>7.604</td>\n",
       "      <td>119</td>\n",
       "      <td>драма, комедия</td>\n",
       "      <td>18.0</td>\n",
       "      <td>103.215094</td>\n",
       "    </tr>\n",
       "    <tr>\n",
       "      <th>4</th>\n",
       "      <td>12 лет рабства</td>\n",
       "      <td>2013</td>\n",
       "      <td>7.710</td>\n",
       "      <td>133</td>\n",
       "      <td>драма, биография, история</td>\n",
       "      <td>20.0</td>\n",
       "      <td>178.371993</td>\n",
       "    </tr>\n",
       "    <tr>\n",
       "      <th>5</th>\n",
       "      <td>Операция «Арго»</td>\n",
       "      <td>2012</td>\n",
       "      <td>7.517</td>\n",
       "      <td>120</td>\n",
       "      <td>триллер, драма, биография</td>\n",
       "      <td>44.5</td>\n",
       "      <td>232.324128</td>\n",
       "    </tr>\n",
       "    <tr>\n",
       "      <th>6</th>\n",
       "      <td>Артист</td>\n",
       "      <td>2011</td>\n",
       "      <td>7.942</td>\n",
       "      <td>96</td>\n",
       "      <td>драма, мелодрама, комедия</td>\n",
       "      <td>15.0</td>\n",
       "      <td>133.432856</td>\n",
       "    </tr>\n",
       "    <tr>\n",
       "      <th>7</th>\n",
       "      <td>Король говорит!</td>\n",
       "      <td>2010</td>\n",
       "      <td>7.977</td>\n",
       "      <td>118</td>\n",
       "      <td>драма, биография, история</td>\n",
       "      <td>15.0</td>\n",
       "      <td>414.211549</td>\n",
       "    </tr>\n",
       "    <tr>\n",
       "      <th>8</th>\n",
       "      <td>Повелитель бури</td>\n",
       "      <td>2008</td>\n",
       "      <td>7.298</td>\n",
       "      <td>126</td>\n",
       "      <td>триллер, драма, военный, история</td>\n",
       "      <td>15.0</td>\n",
       "      <td>49.230772</td>\n",
       "    </tr>\n",
       "    <tr>\n",
       "      <th>9</th>\n",
       "      <td>Миллионер из трущоб</td>\n",
       "      <td>2008</td>\n",
       "      <td>7.724</td>\n",
       "      <td>120</td>\n",
       "      <td>драма, мелодрама</td>\n",
       "      <td>15.0</td>\n",
       "      <td>377.910544</td>\n",
       "    </tr>\n",
       "    <tr>\n",
       "      <th>10</th>\n",
       "      <td>Старикам тут не место</td>\n",
       "      <td>2007</td>\n",
       "      <td>7.726</td>\n",
       "      <td>122</td>\n",
       "      <td>триллер, драма, криминал</td>\n",
       "      <td>25.0</td>\n",
       "      <td>171.627166</td>\n",
       "    </tr>\n",
       "    <tr>\n",
       "      <th>11</th>\n",
       "      <td>Отступники</td>\n",
       "      <td>2006</td>\n",
       "      <td>8.456</td>\n",
       "      <td>151</td>\n",
       "      <td>триллер, драма, криминал</td>\n",
       "      <td>90.0</td>\n",
       "      <td>289.847354</td>\n",
       "    </tr>\n",
       "    <tr>\n",
       "      <th>12</th>\n",
       "      <td>Столкновение</td>\n",
       "      <td>2004</td>\n",
       "      <td>7.896</td>\n",
       "      <td>108</td>\n",
       "      <td>триллер, драма, криминал</td>\n",
       "      <td>6.5</td>\n",
       "      <td>98.410061</td>\n",
       "    </tr>\n",
       "    <tr>\n",
       "      <th>13</th>\n",
       "      <td>Малышка на миллион</td>\n",
       "      <td>2004</td>\n",
       "      <td>8.075</td>\n",
       "      <td>132</td>\n",
       "      <td>драма, спорт</td>\n",
       "      <td>30.0</td>\n",
       "      <td>216.763646</td>\n",
       "    </tr>\n",
       "    <tr>\n",
       "      <th>15</th>\n",
       "      <td>Чикаго</td>\n",
       "      <td>2002</td>\n",
       "      <td>7.669</td>\n",
       "      <td>113</td>\n",
       "      <td>мюзикл, комедия, криминал</td>\n",
       "      <td>45.0</td>\n",
       "      <td>306.776732</td>\n",
       "    </tr>\n",
       "    <tr>\n",
       "      <th>16</th>\n",
       "      <td>Игры разума</td>\n",
       "      <td>2001</td>\n",
       "      <td>8.557</td>\n",
       "      <td>135</td>\n",
       "      <td>драма, биография, мелодрама</td>\n",
       "      <td>58.0</td>\n",
       "      <td>313.542341</td>\n",
       "    </tr>\n",
       "    <tr>\n",
       "      <th>17</th>\n",
       "      <td>Гладиатор</td>\n",
       "      <td>2000</td>\n",
       "      <td>8.585</td>\n",
       "      <td>155</td>\n",
       "      <td>боевик, драма, приключения</td>\n",
       "      <td>103.0</td>\n",
       "      <td>457.640427</td>\n",
       "    </tr>\n",
       "    <tr>\n",
       "      <th>18</th>\n",
       "      <td>Красота по-американски</td>\n",
       "      <td>1999</td>\n",
       "      <td>7.965</td>\n",
       "      <td>122</td>\n",
       "      <td>драма</td>\n",
       "      <td>15.0</td>\n",
       "      <td>356.296601</td>\n",
       "    </tr>\n",
       "    <tr>\n",
       "      <th>19</th>\n",
       "      <td>Влюбленный Шекспир</td>\n",
       "      <td>1998</td>\n",
       "      <td>7.452</td>\n",
       "      <td>123</td>\n",
       "      <td>драма, мелодрама, комедия, история</td>\n",
       "      <td>25.0</td>\n",
       "      <td>289.317794</td>\n",
       "    </tr>\n",
       "    <tr>\n",
       "      <th>21</th>\n",
       "      <td>Английский пациент</td>\n",
       "      <td>1996</td>\n",
       "      <td>7.849</td>\n",
       "      <td>155</td>\n",
       "      <td>драма, мелодрама, военный</td>\n",
       "      <td>27.0</td>\n",
       "      <td>231.976425</td>\n",
       "    </tr>\n",
       "    <tr>\n",
       "      <th>22</th>\n",
       "      <td>Храброе сердце</td>\n",
       "      <td>1995</td>\n",
       "      <td>8.283</td>\n",
       "      <td>178</td>\n",
       "      <td>драма, военный, биография, история</td>\n",
       "      <td>72.0</td>\n",
       "      <td>210.409945</td>\n",
       "    </tr>\n",
       "    <tr>\n",
       "      <th>24</th>\n",
       "      <td>Список Шиндлера</td>\n",
       "      <td>1993</td>\n",
       "      <td>8.819</td>\n",
       "      <td>195</td>\n",
       "      <td>драма, биография, история</td>\n",
       "      <td>22.0</td>\n",
       "      <td>321.265768</td>\n",
       "    </tr>\n",
       "    <tr>\n",
       "      <th>25</th>\n",
       "      <td>Непрощенный</td>\n",
       "      <td>1992</td>\n",
       "      <td>7.858</td>\n",
       "      <td>131</td>\n",
       "      <td>драма, вестерн</td>\n",
       "      <td>14.4</td>\n",
       "      <td>159.157447</td>\n",
       "    </tr>\n",
       "    <tr>\n",
       "      <th>26</th>\n",
       "      <td>Молчание ягнят</td>\n",
       "      <td>1990</td>\n",
       "      <td>8.335</td>\n",
       "      <td>114</td>\n",
       "      <td>триллер, криминал, детектив, драма, ужасы</td>\n",
       "      <td>19.0</td>\n",
       "      <td>272.742922</td>\n",
       "    </tr>\n",
       "    <tr>\n",
       "      <th>27</th>\n",
       "      <td>Танцующий с волками</td>\n",
       "      <td>1990</td>\n",
       "      <td>8.112</td>\n",
       "      <td>181</td>\n",
       "      <td>драма, приключения, вестерн</td>\n",
       "      <td>22.0</td>\n",
       "      <td>424.208848</td>\n",
       "    </tr>\n",
       "    <tr>\n",
       "      <th>28</th>\n",
       "      <td>Шофёр мисс Дэйзи</td>\n",
       "      <td>1989</td>\n",
       "      <td>7.645</td>\n",
       "      <td>99</td>\n",
       "      <td>драма</td>\n",
       "      <td>7.5</td>\n",
       "      <td>145.793296</td>\n",
       "    </tr>\n",
       "    <tr>\n",
       "      <th>29</th>\n",
       "      <td>Человек дождя</td>\n",
       "      <td>1988</td>\n",
       "      <td>8.250</td>\n",
       "      <td>133</td>\n",
       "      <td>драма</td>\n",
       "      <td>25.0</td>\n",
       "      <td>354.825435</td>\n",
       "    </tr>\n",
       "  </tbody>\n",
       "</table>\n",
       "</div>"
      ],
      "text/plain": [
       "                                   Name  Year    Rat  Length  \\\n",
       "0   Форма воды                           2017  6.914     123   \n",
       "1   Лунный свет                          2016  6.151     110   \n",
       "2   В центре внимания                    2015  7.489     129   \n",
       "3   Бёрдмэн                              2014  7.604     119   \n",
       "4   12 лет рабства                       2013  7.710     133   \n",
       "5   Операция «Арго»                      2012  7.517     120   \n",
       "6   Артист                               2011  7.942      96   \n",
       "7   Король говорит!                      2010  7.977     118   \n",
       "8   Повелитель бури                      2008  7.298     126   \n",
       "9   Миллионер из трущоб                  2008  7.724     120   \n",
       "10  Старикам тут не место                2007  7.726     122   \n",
       "11  Отступники                           2006  8.456     151   \n",
       "12  Столкновение                         2004  7.896     108   \n",
       "13  Малышка на миллион                   2004  8.075     132   \n",
       "15  Чикаго                               2002  7.669     113   \n",
       "16  Игры разума                          2001  8.557     135   \n",
       "17  Гладиатор                            2000  8.585     155   \n",
       "18  Красота по-американски               1999  7.965     122   \n",
       "19  Влюбленный Шекспир                   1998  7.452     123   \n",
       "21  Английский пациент                   1996  7.849     155   \n",
       "22  Храброе сердце                       1995  8.283     178   \n",
       "24  Список Шиндлера                      1993  8.819     195   \n",
       "25  Непрощенный                          1992  7.858     131   \n",
       "26  Молчание ягнят                       1990  8.335     114   \n",
       "27  Танцующий с волками                  1990  8.112     181   \n",
       "28  Шофёр мисс Дэйзи                     1989  7.645      99   \n",
       "29  Человек дождя                        1988  8.250     133   \n",
       "\n",
       "                                        Genre  Budget  box_office  \n",
       "0   фантастика, драма                            19.4  195.243464  \n",
       "1    драма                                        1.5   65.046687  \n",
       "2     драма, криминал, история                   20.0   88.346473  \n",
       "3               драма, комедия                   18.0  103.215094  \n",
       "4     драма, биография, история                  20.0  178.371993  \n",
       "5     триллер, драма, биография                  44.5  232.324128  \n",
       "6     драма, мелодрама, комедия                  15.0  133.432856  \n",
       "7     драма, биография, история                  15.0  414.211549  \n",
       "8    триллер, драма, военный, история            15.0   49.230772  \n",
       "9               драма, мелодрама                 15.0  377.910544  \n",
       "10    триллер, драма, криминал                   25.0  171.627166  \n",
       "11    триллер, драма, криминал                   90.0  289.847354  \n",
       "12    триллер, драма, криминал                    6.5   98.410061  \n",
       "13               драма, спорт                    30.0  216.763646  \n",
       "15    мюзикл, комедия, криминал                  45.0  306.776732  \n",
       "16   драма, биография, мелодрама                 58.0  313.542341  \n",
       "17    боевик, драма, приключения                103.0  457.640427  \n",
       "18              драма                            15.0  356.296601  \n",
       "19   драма, мелодрама, комедия, история          25.0  289.317794  \n",
       "21   драма, мелодрама, военный                   27.0  231.976425  \n",
       "22  драма, военный, биография, история           72.0  210.409945  \n",
       "24  драма, биография, история                    22.0  321.265768  \n",
       "25  драма, вестерн                               14.4  159.157447  \n",
       "26  триллер, криминал, детектив, драма, ужасы    19.0  272.742922  \n",
       "27   драма, приключения, вестерн                 22.0  424.208848  \n",
       "28  драма                                         7.5  145.793296  \n",
       "29  драма                                        25.0  354.825435  "
      ]
     },
     "execution_count": 89,
     "metadata": {},
     "output_type": "execute_result"
    }
   ],
   "source": [
    "new_data = pd.read_csv('movies.csv')\n",
    "new_data.columns = ['Name','Year', 'Rat', 'Length', 'Genre', 'Budget', 'box_office']\n",
    "new_data = new_data.drop(index=[14, 20, 23])\n",
    "new_data"
   ]
  },
  {
   "cell_type": "markdown",
   "metadata": {},
   "source": [
    "### Определите, что из полученных данных рассматривается как изучаемый показатель, а что – как объясняющий фактор.\n",
    "\n",
    "#### В качестве регрессора X возьмем данные о рейтинге, а в качестве регрессанта Y его сборы в млн. долл.. "
   ]
  },
  {
   "cell_type": "code",
   "execution_count": 90,
   "metadata": {},
   "outputs": [],
   "source": [
    "Y = np.array(new_data['box_office'])\n",
    "X = np.array(new_data['Rat'])"
   ]
  },
  {
   "cell_type": "markdown",
   "metadata": {},
   "source": [
    "### \tПостройте диаграмму рассеяния."
   ]
  },
  {
   "cell_type": "code",
   "execution_count": 91,
   "metadata": {},
   "outputs": [
    {
     "data": {
      "text/plain": [
       "Text(0, 0.5, 'Сборы')"
      ]
     },
     "execution_count": 91,
     "metadata": {},
     "output_type": "execute_result"
    },
    {
     "data": {
      "image/png": "[encoded data removed]",
      "text/plain": [
       "<Figure size 432x288 with 1 Axes>"
      ]
     },
     "metadata": {
      "needs_background": "light"
     },
     "output_type": "display_data"
    }
   ],
   "source": [
    "plt.scatter(X,Y)\n",
    "plt.xlabel('Рейтинг')\n",
    "plt.ylabel('Сборы')"
   ]
  },
  {
   "cell_type": "markdown",
   "metadata": {},
   "source": [
    "### \tПостройте парную линейную регрессию и вычислите расчетные значения показателя."
   ]
  },
  {
   "cell_type": "code",
   "execution_count": 92,
   "metadata": {
    "scrolled": true
   },
   "outputs": [
    {
     "data": {
      "text/plain": [
       "LinearRegression()"
      ]
     },
     "execution_count": 92,
     "metadata": {},
     "output_type": "execute_result"
    }
   ],
   "source": [
    "lin_reg = LinearRegression()\n",
    "lin_reg.fit(X.reshape(-1,1),Y.reshape(-1,1))"
   ]
  },
  {
   "cell_type": "markdown",
   "metadata": {},
   "source": [
    "#### Получим коэф. регрессии:"
   ]
  },
  {
   "cell_type": "code",
   "execution_count": 93,
   "metadata": {},
   "outputs": [
    {
     "name": "stdout",
     "output_type": "stream",
     "text": [
      "coef:  123.25569192990024\n",
      "intercept:  -727.9543930698077\n"
     ]
    }
   ],
   "source": [
    "k = lin_reg.coef_[0][0] \n",
    "b = lin_reg.intercept_[0]\n",
    "print('coef: ', k)\n",
    "print('intercept: ',  b)"
   ]
  },
  {
   "cell_type": "markdown",
   "metadata": {},
   "source": [
    "### \tНа диаграмме рассеяния постройте график ПЛР."
   ]
  },
  {
   "cell_type": "code",
   "execution_count": 140,
   "metadata": {
    "scrolled": true
   },
   "outputs": [
    {
     "data": {
      "text/plain": [
       "[<matplotlib.lines.Line2D at 0x2b1f0ca7ac0>]"
      ]
     },
     "execution_count": 140,
     "metadata": {},
     "output_type": "execute_result"
    },
    {
     "data": {
      "image/png": "[encoded data removed]",
      "text/plain": [
       "<Figure size 1440x720 with 1 Axes>"
      ]
     },
     "metadata": {
      "needs_background": "light"
     },
     "output_type": "display_data"
    }
   ],
   "source": [
    "fig = plt.figure(figsize=(20,10))\n",
    "ax = fig.add_subplot(111)\n",
    "ax.set_xlabel('Рейтинг')\n",
    "ax.set_ylabel('Сборы')\n",
    "\n",
    "plt.scatter(X,Y)\n",
    "plt.plot(X, [k*x + b for x in X], color = 'r')"
   ]
  },
  {
   "cell_type": "markdown",
   "metadata": {},
   "source": [
    "### \tВычислите остатки и постройте их график"
   ]
  },
  {
   "cell_type": "code",
   "execution_count": 114,
   "metadata": {
    "scrolled": true
   },
   "outputs": [
    {
     "data": {
      "image/png": "[encoded data removed]",
      "text/plain": [
       "<Figure size 1440x720 with 1 Axes>"
      ]
     },
     "metadata": {
      "needs_background": "light"
     },
     "output_type": "display_data"
    }
   ],
   "source": [
    "fig = plt.figure(figsize=(20,10))\n",
    "ax = fig.add_subplot(111)\n",
    "ax.set_xlabel('Рейтинг')\n",
    "ax.set_ylabel('Сборы')\n",
    "plt.scatter(X,Y)\n",
    "plt.plot(X, [k*x + b for x in X], color = 'b')\n",
    "\n",
    "for i in range(len(X)):\n",
    "    true_dots = (X[i], X[i])\n",
    "    preds = (Y[i], k*X[i] + b)\n",
    "    plt.plot(true_dots, preds, color = 'y')"
   ]
  },
  {
   "cell_type": "markdown",
   "metadata": {},
   "source": [
    "### \tПроверьте статистическую значимость полученных значений параметров регрессии с помощью критерия Стьюдента и критерия Фишера."
   ]
  },
  {
   "cell_type": "code",
   "execution_count": 101,
   "metadata": {
    "scrolled": false
   },
   "outputs": [
    {
     "data": {
      "text/html": [
       "<table class=\"simpletable\">\n",
       "<caption>OLS Regression Results</caption>\n",
       "<tr>\n",
       "  <th>Dep. Variable:</th>       <td>box_office</td>    <th>  R-squared:         </th> <td>   0.339</td>\n",
       "</tr>\n",
       "<tr>\n",
       "  <th>Model:</th>                   <td>OLS</td>       <th>  Adj. R-squared:    </th> <td>   0.312</td>\n",
       "</tr>\n",
       "<tr>\n",
       "  <th>Method:</th>             <td>Least Squares</td>  <th>  F-statistic:       </th> <td>   12.80</td>\n",
       "</tr>\n",
       "<tr>\n",
       "  <th>Date:</th>             <td>Sun, 10 Jan 2021</td> <th>  Prob (F-statistic):</th>  <td>0.00145</td>\n",
       "</tr>\n",
       "<tr>\n",
       "  <th>Time:</th>                 <td>22:57:46</td>     <th>  Log-Likelihood:    </th> <td> -160.47</td>\n",
       "</tr>\n",
       "<tr>\n",
       "  <th>No. Observations:</th>      <td>    27</td>      <th>  AIC:               </th> <td>   324.9</td>\n",
       "</tr>\n",
       "<tr>\n",
       "  <th>Df Residuals:</th>          <td>    25</td>      <th>  BIC:               </th> <td>   327.5</td>\n",
       "</tr>\n",
       "<tr>\n",
       "  <th>Df Model:</th>              <td>     1</td>      <th>                     </th>     <td> </td>   \n",
       "</tr>\n",
       "<tr>\n",
       "  <th>Covariance Type:</th>      <td>nonrobust</td>    <th>                     </th>     <td> </td>   \n",
       "</tr>\n",
       "</table>\n",
       "<table class=\"simpletable\">\n",
       "<tr>\n",
       "      <td></td>         <th>coef</th>     <th>std err</th>      <th>t</th>      <th>P>|t|</th>  <th>[0.025</th>    <th>0.975]</th>  \n",
       "</tr>\n",
       "<tr>\n",
       "  <th>Intercept</th> <td> -727.9544</td> <td>  270.991</td> <td>   -2.686</td> <td> 0.013</td> <td>-1286.071</td> <td> -169.838</td>\n",
       "</tr>\n",
       "<tr>\n",
       "  <th>Rat</th>       <td>  123.2557</td> <td>   34.456</td> <td>    3.577</td> <td> 0.001</td> <td>   52.292</td> <td>  194.219</td>\n",
       "</tr>\n",
       "</table>\n",
       "<table class=\"simpletable\">\n",
       "<tr>\n",
       "  <th>Omnibus:</th>       <td> 4.473</td> <th>  Durbin-Watson:     </th> <td>   2.294</td>\n",
       "</tr>\n",
       "<tr>\n",
       "  <th>Prob(Omnibus):</th> <td> 0.107</td> <th>  Jarque-Bera (JB):  </th> <td>   1.869</td>\n",
       "</tr>\n",
       "<tr>\n",
       "  <th>Skew:</th>          <td> 0.275</td> <th>  Prob(JB):          </th> <td>   0.393</td>\n",
       "</tr>\n",
       "<tr>\n",
       "  <th>Kurtosis:</th>      <td> 1.835</td> <th>  Cond. No.          </th> <td>    117.</td>\n",
       "</tr>\n",
       "</table><br/><br/>Warnings:<br/>[1] Standard Errors assume that the covariance matrix of the errors is correctly specified."
      ],
      "text/plain": [
       "<class 'statsmodels.iolib.summary.Summary'>\n",
       "\"\"\"\n",
       "                            OLS Regression Results                            \n",
       "==============================================================================\n",
       "Dep. Variable:             box_office   R-squared:                       0.339\n",
       "Model:                            OLS   Adj. R-squared:                  0.312\n",
       "Method:                 Least Squares   F-statistic:                     12.80\n",
       "Date:                Sun, 10 Jan 2021   Prob (F-statistic):            0.00145\n",
       "Time:                        22:57:46   Log-Likelihood:                -160.47\n",
       "No. Observations:                  27   AIC:                             324.9\n",
       "Df Residuals:                      25   BIC:                             327.5\n",
       "Df Model:                           1                                         \n",
       "Covariance Type:            nonrobust                                         \n",
       "==============================================================================\n",
       "                 coef    std err          t      P>|t|      [0.025      0.975]\n",
       "------------------------------------------------------------------------------\n",
       "Intercept   -727.9544    270.991     -2.686      0.013   -1286.071    -169.838\n",
       "Rat          123.2557     34.456      3.577      0.001      52.292     194.219\n",
       "==============================================================================\n",
       "Omnibus:                        4.473   Durbin-Watson:                   2.294\n",
       "Prob(Omnibus):                  0.107   Jarque-Bera (JB):                1.869\n",
       "Skew:                           0.275   Prob(JB):                        0.393\n",
       "Kurtosis:                       1.835   Cond. No.                         117.\n",
       "==============================================================================\n",
       "\n",
       "Warnings:\n",
       "[1] Standard Errors assume that the covariance matrix of the errors is correctly specified.\n",
       "\"\"\""
      ]
     },
     "execution_count": 101,
     "metadata": {},
     "output_type": "execute_result"
    }
   ],
   "source": [
    "results = smf.ols('box_office ~ Rat', data = new_data).fit()\n",
    "results.summary()"
   ]
  },
  {
   "cell_type": "markdown",
   "metadata": {},
   "source": [
    "### Критерий Стьюдента\n",
    "p_value_a = 0.013\n",
    "\n",
    "**p_value_a < 0.05** => константное значение статестически значимо\n",
    "\n",
    "p_value_b = 0.001\n",
    "\n",
    "**p_value_b < 0.05** => переменная стат. значима"
   ]
  },
  {
   "cell_type": "markdown",
   "metadata": {},
   "source": [
    "### Критерий Фишера\n",
    "Prob (F-statistic) = 0.00145 < 0.05\n",
    "\n",
    "То есть данное построенное уравнение ПЛР является статичтически значимым"
   ]
  },
  {
   "cell_type": "markdown",
   "metadata": {},
   "source": [
    "### \tВычислите доверительные интервалы параметров ЛР."
   ]
  },
  {
   "cell_type": "markdown",
   "metadata": {},
   "source": [
    "Доверительный интервал для a = Intercept = (-1286.071, -169.838) <br>\n",
    "Доверительный интервал для b = Rat = (52.292, 194.219) <br>\n",
    "где alpha = 0.05, то есть уровень доверия 95%"
   ]
  },
  {
   "cell_type": "markdown",
   "metadata": {},
   "source": [
    "#### Построим точечный прогноз значения Y для фиксированного X. Вычислим стандартную ошибку и доверительный интервал полученного прогноза"
   ]
  },
  {
   "cell_type": "code",
   "execution_count": 141,
   "metadata": {
    "scrolled": true
   },
   "outputs": [
    {
     "data": {
      "text/html": [
       "<div>\n",
       "<style scoped>\n",
       "    .dataframe tbody tr th:only-of-type {\n",
       "        vertical-align: middle;\n",
       "    }\n",
       "\n",
       "    .dataframe tbody tr th {\n",
       "        vertical-align: top;\n",
       "    }\n",
       "\n",
       "    .dataframe thead th {\n",
       "        text-align: right;\n",
       "    }\n",
       "</style>\n",
       "<table border=\"1\" class=\"dataframe\">\n",
       "  <thead>\n",
       "    <tr style=\"text-align: right;\">\n",
       "      <th></th>\n",
       "      <th>mean</th>\n",
       "      <th>mean_se</th>\n",
       "      <th>mean_ci_lower</th>\n",
       "      <th>mean_ci_upper</th>\n",
       "    </tr>\n",
       "  </thead>\n",
       "  <tbody>\n",
       "    <tr>\n",
       "      <th>0</th>\n",
       "      <td>124.235461</td>\n",
       "      <td>37.0532</td>\n",
       "      <td>47.922967</td>\n",
       "      <td>200.547955</td>\n",
       "    </tr>\n",
       "  </tbody>\n",
       "</table>\n",
       "</div>"
      ],
      "text/plain": [
       "         mean  mean_se  mean_ci_lower  mean_ci_upper\n",
       "0  124.235461  37.0532      47.922967     200.547955"
      ]
     },
     "execution_count": 141,
     "metadata": {},
     "output_type": "execute_result"
    }
   ],
   "source": [
    "X2 = sm.add_constant(X.reshape(-1,1))\n",
    "est2.get_prediction(X2[0]).summary_frame()[['mean', 'mean_se','mean_ci_lower','mean_ci_upper']]"
   ]
  },
  {
   "cell_type": "markdown",
   "metadata": {},
   "source": [
    "mean - точечный прогноз значения Y = 124.235461\n",
    "\n",
    "mean_se - стандартная ошибка = 37.0532\n",
    "\n",
    "доверительный интервал:<br>\n",
    "Нижняя граница - mean_ci_lower = 47.922967 <br>\n",
    "Верхняя граница - mean_ci_upper = 200.547955"
   ]
  },
  {
   "cell_type": "markdown",
   "metadata": {},
   "source": [
    "### Проверьте гипотезу о гомоскедастичности наблюдений по методу Гольдфельда-Квандта "
   ]
  },
  {
   "cell_type": "code",
   "execution_count": 118,
   "metadata": {},
   "outputs": [],
   "source": [
    "t = Y -  [k*x + b for x in X]"
   ]
  },
  {
   "cell_type": "code",
   "execution_count": 139,
   "metadata": {},
   "outputs": [
    {
     "name": "stdout",
     "output_type": "stream",
     "text": [
      "F-statistic: 0.6476518122961875 \n",
      "p-value: 0.7702007602695633\n"
     ]
    }
   ],
   "source": [
    "homo = het_goldfeldquandt(t.reshape((-1,1)), X.reshape((-1,1)), alternative = 'increasing')\n",
    "print(f'F-statistic: {homo[0]} \\np-value: {homo[1]}')"
   ]
  },
  {
   "cell_type": "markdown",
   "metadata": {},
   "source": [
    "поскольку p_value = 0.7702007602695633 > 0.05 => остатки гетероскедостичны"
   ]
  }
 ],
 "metadata": {
  "kernelspec": {
   "display_name": "Python 3",
   "language": "python",
   "name": "python3"
  },
  "language_info": {
   "codemirror_mode": {
    "name": "ipython",
    "version": 3
   },
   "file_extension": ".py",
   "mimetype": "text/x-python",
   "name": "python",
   "nbconvert_exporter": "python",
   "pygments_lexer": "ipython3",
   "version": "3.8.3"
  }
 },
 "nbformat": 4,
 "nbformat_minor": 4
}
