{
 "cells": [
  {
   "cell_type": "code",
   "execution_count": 50,
   "metadata": {},
   "outputs": [],
   "source": [
    "import pandas as pd\n",
    "import numpy as np\n",
    "import matplotlib.pyplot as plt\n",
    "import statsmodels.api as sm\n",
    "import seaborn\n",
    "from sklearn.preprocessing import MinMaxScaler\n",
    "from scipy import stats\n",
    "from sklearn.linear_model import LinearRegression\n",
    "from sklearn.metrics import mean_squared_error, r2_score, mean_absolute_error"
   ]
  },
  {
   "cell_type": "markdown",
   "metadata": {},
   "source": [
    "### В качестве данных возьмем теже данные (из первой лабораторной работы) о последних 30 кинофильмах, получивших «Оскар» как самый лучший фильм."
   ]
  },
  {
   "cell_type": "code",
   "execution_count": 70,
   "metadata": {
    "scrolled": true
   },
   "outputs": [
    {
     "data": {
      "text/html": [
       "<div>\n",
       "<style scoped>\n",
       "    .dataframe tbody tr th:only-of-type {\n",
       "        vertical-align: middle;\n",
       "    }\n",
       "\n",
       "    .dataframe tbody tr th {\n",
       "        vertical-align: top;\n",
       "    }\n",
       "\n",
       "    .dataframe thead th {\n",
       "        text-align: right;\n",
       "    }\n",
       "</style>\n",
       "<table border=\"1\" class=\"dataframe\">\n",
       "  <thead>\n",
       "    <tr style=\"text-align: right;\">\n",
       "      <th></th>\n",
       "      <th>Name</th>\n",
       "      <th>Year</th>\n",
       "      <th>Rat</th>\n",
       "      <th>Length</th>\n",
       "      <th>Genre</th>\n",
       "      <th>Budget</th>\n",
       "      <th>box_office</th>\n",
       "    </tr>\n",
       "  </thead>\n",
       "  <tbody>\n",
       "    <tr>\n",
       "      <th>0</th>\n",
       "      <td>Форма воды</td>\n",
       "      <td>2017</td>\n",
       "      <td>6.914</td>\n",
       "      <td>123</td>\n",
       "      <td>фантастика, драма</td>\n",
       "      <td>19.4</td>\n",
       "      <td>195.243464</td>\n",
       "    </tr>\n",
       "    <tr>\n",
       "      <th>1</th>\n",
       "      <td>Лунный свет</td>\n",
       "      <td>2016</td>\n",
       "      <td>6.151</td>\n",
       "      <td>110</td>\n",
       "      <td>драма</td>\n",
       "      <td>1.5</td>\n",
       "      <td>65.046687</td>\n",
       "    </tr>\n",
       "    <tr>\n",
       "      <th>2</th>\n",
       "      <td>В центре внимания</td>\n",
       "      <td>2015</td>\n",
       "      <td>7.489</td>\n",
       "      <td>129</td>\n",
       "      <td>драма, криминал, история</td>\n",
       "      <td>20.0</td>\n",
       "      <td>88.346473</td>\n",
       "    </tr>\n",
       "    <tr>\n",
       "      <th>3</th>\n",
       "      <td>Бёрдмэн</td>\n",
       "      <td>2014</td>\n",
       "      <td>7.604</td>\n",
       "      <td>119</td>\n",
       "      <td>драма, комедия</td>\n",
       "      <td>18.0</td>\n",
       "      <td>103.215094</td>\n",
       "    </tr>\n",
       "    <tr>\n",
       "      <th>4</th>\n",
       "      <td>12 лет рабства</td>\n",
       "      <td>2013</td>\n",
       "      <td>7.710</td>\n",
       "      <td>133</td>\n",
       "      <td>драма, биография, история</td>\n",
       "      <td>20.0</td>\n",
       "      <td>178.371993</td>\n",
       "    </tr>\n",
       "    <tr>\n",
       "      <th>5</th>\n",
       "      <td>Операция «Арго»</td>\n",
       "      <td>2012</td>\n",
       "      <td>7.517</td>\n",
       "      <td>120</td>\n",
       "      <td>триллер, драма, биография</td>\n",
       "      <td>44.5</td>\n",
       "      <td>232.324128</td>\n",
       "    </tr>\n",
       "    <tr>\n",
       "      <th>6</th>\n",
       "      <td>Артист</td>\n",
       "      <td>2011</td>\n",
       "      <td>7.942</td>\n",
       "      <td>96</td>\n",
       "      <td>драма, мелодрама, комедия</td>\n",
       "      <td>15.0</td>\n",
       "      <td>133.432856</td>\n",
       "    </tr>\n",
       "    <tr>\n",
       "      <th>7</th>\n",
       "      <td>Король говорит!</td>\n",
       "      <td>2010</td>\n",
       "      <td>7.977</td>\n",
       "      <td>118</td>\n",
       "      <td>драма, биография, история</td>\n",
       "      <td>15.0</td>\n",
       "      <td>414.211549</td>\n",
       "    </tr>\n",
       "    <tr>\n",
       "      <th>8</th>\n",
       "      <td>Повелитель бури</td>\n",
       "      <td>2008</td>\n",
       "      <td>7.298</td>\n",
       "      <td>126</td>\n",
       "      <td>триллер, драма, военный, история</td>\n",
       "      <td>15.0</td>\n",
       "      <td>49.230772</td>\n",
       "    </tr>\n",
       "    <tr>\n",
       "      <th>9</th>\n",
       "      <td>Миллионер из трущоб</td>\n",
       "      <td>2008</td>\n",
       "      <td>7.724</td>\n",
       "      <td>120</td>\n",
       "      <td>драма, мелодрама</td>\n",
       "      <td>15.0</td>\n",
       "      <td>377.910544</td>\n",
       "    </tr>\n",
       "    <tr>\n",
       "      <th>10</th>\n",
       "      <td>Старикам тут не место</td>\n",
       "      <td>2007</td>\n",
       "      <td>7.726</td>\n",
       "      <td>122</td>\n",
       "      <td>триллер, драма, криминал</td>\n",
       "      <td>25.0</td>\n",
       "      <td>171.627166</td>\n",
       "    </tr>\n",
       "    <tr>\n",
       "      <th>11</th>\n",
       "      <td>Отступники</td>\n",
       "      <td>2006</td>\n",
       "      <td>8.456</td>\n",
       "      <td>151</td>\n",
       "      <td>триллер, драма, криминал</td>\n",
       "      <td>90.0</td>\n",
       "      <td>289.847354</td>\n",
       "    </tr>\n",
       "    <tr>\n",
       "      <th>12</th>\n",
       "      <td>Столкновение</td>\n",
       "      <td>2004</td>\n",
       "      <td>7.896</td>\n",
       "      <td>108</td>\n",
       "      <td>триллер, драма, криминал</td>\n",
       "      <td>6.5</td>\n",
       "      <td>98.410061</td>\n",
       "    </tr>\n",
       "    <tr>\n",
       "      <th>13</th>\n",
       "      <td>Малышка на миллион</td>\n",
       "      <td>2004</td>\n",
       "      <td>8.075</td>\n",
       "      <td>132</td>\n",
       "      <td>драма, спорт</td>\n",
       "      <td>30.0</td>\n",
       "      <td>216.763646</td>\n",
       "    </tr>\n",
       "    <tr>\n",
       "      <th>14</th>\n",
       "      <td>Властелин колец: Возвращение Короля</td>\n",
       "      <td>2003</td>\n",
       "      <td>8.617</td>\n",
       "      <td>201</td>\n",
       "      <td>фэнтези, драма, приключения</td>\n",
       "      <td>94.0</td>\n",
       "      <td>1119.110941</td>\n",
       "    </tr>\n",
       "    <tr>\n",
       "      <th>15</th>\n",
       "      <td>Чикаго</td>\n",
       "      <td>2002</td>\n",
       "      <td>7.669</td>\n",
       "      <td>113</td>\n",
       "      <td>мюзикл, комедия, криминал</td>\n",
       "      <td>45.0</td>\n",
       "      <td>306.776732</td>\n",
       "    </tr>\n",
       "    <tr>\n",
       "      <th>16</th>\n",
       "      <td>Игры разума</td>\n",
       "      <td>2001</td>\n",
       "      <td>8.557</td>\n",
       "      <td>135</td>\n",
       "      <td>драма, биография, мелодрама</td>\n",
       "      <td>58.0</td>\n",
       "      <td>313.542341</td>\n",
       "    </tr>\n",
       "    <tr>\n",
       "      <th>17</th>\n",
       "      <td>Гладиатор</td>\n",
       "      <td>2000</td>\n",
       "      <td>8.585</td>\n",
       "      <td>155</td>\n",
       "      <td>боевик, драма, приключения</td>\n",
       "      <td>103.0</td>\n",
       "      <td>457.640427</td>\n",
       "    </tr>\n",
       "    <tr>\n",
       "      <th>18</th>\n",
       "      <td>Красота по-американски</td>\n",
       "      <td>1999</td>\n",
       "      <td>7.965</td>\n",
       "      <td>122</td>\n",
       "      <td>драма</td>\n",
       "      <td>15.0</td>\n",
       "      <td>356.296601</td>\n",
       "    </tr>\n",
       "    <tr>\n",
       "      <th>19</th>\n",
       "      <td>Влюбленный Шекспир</td>\n",
       "      <td>1998</td>\n",
       "      <td>7.452</td>\n",
       "      <td>123</td>\n",
       "      <td>драма, мелодрама, комедия, история</td>\n",
       "      <td>25.0</td>\n",
       "      <td>289.317794</td>\n",
       "    </tr>\n",
       "    <tr>\n",
       "      <th>20</th>\n",
       "      <td>Титаник</td>\n",
       "      <td>1997</td>\n",
       "      <td>8.369</td>\n",
       "      <td>194</td>\n",
       "      <td>драма, мелодрама</td>\n",
       "      <td>200.0</td>\n",
       "      <td>2185.372302</td>\n",
       "    </tr>\n",
       "    <tr>\n",
       "      <th>21</th>\n",
       "      <td>Английский пациент</td>\n",
       "      <td>1996</td>\n",
       "      <td>7.849</td>\n",
       "      <td>155</td>\n",
       "      <td>драма, мелодрама, военный</td>\n",
       "      <td>27.0</td>\n",
       "      <td>231.976425</td>\n",
       "    </tr>\n",
       "    <tr>\n",
       "      <th>22</th>\n",
       "      <td>Храброе сердце</td>\n",
       "      <td>1995</td>\n",
       "      <td>8.283</td>\n",
       "      <td>178</td>\n",
       "      <td>драма, военный, биография, история</td>\n",
       "      <td>72.0</td>\n",
       "      <td>210.409945</td>\n",
       "    </tr>\n",
       "    <tr>\n",
       "      <th>23</th>\n",
       "      <td>Форрест Гамп</td>\n",
       "      <td>1994</td>\n",
       "      <td>8.915</td>\n",
       "      <td>142</td>\n",
       "      <td>драма, мелодрама</td>\n",
       "      <td>55.0</td>\n",
       "      <td>677.386686</td>\n",
       "    </tr>\n",
       "    <tr>\n",
       "      <th>24</th>\n",
       "      <td>Список Шиндлера</td>\n",
       "      <td>1993</td>\n",
       "      <td>8.819</td>\n",
       "      <td>195</td>\n",
       "      <td>драма, биография, история</td>\n",
       "      <td>22.0</td>\n",
       "      <td>321.265768</td>\n",
       "    </tr>\n",
       "    <tr>\n",
       "      <th>25</th>\n",
       "      <td>Непрощенный</td>\n",
       "      <td>1992</td>\n",
       "      <td>7.858</td>\n",
       "      <td>131</td>\n",
       "      <td>драма, вестерн</td>\n",
       "      <td>14.4</td>\n",
       "      <td>159.157447</td>\n",
       "    </tr>\n",
       "    <tr>\n",
       "      <th>26</th>\n",
       "      <td>Молчание ягнят</td>\n",
       "      <td>1990</td>\n",
       "      <td>8.335</td>\n",
       "      <td>114</td>\n",
       "      <td>триллер, криминал, детектив, драма, ужасы</td>\n",
       "      <td>19.0</td>\n",
       "      <td>272.742922</td>\n",
       "    </tr>\n",
       "    <tr>\n",
       "      <th>27</th>\n",
       "      <td>Танцующий с волками</td>\n",
       "      <td>1990</td>\n",
       "      <td>8.112</td>\n",
       "      <td>181</td>\n",
       "      <td>драма, приключения, вестерн</td>\n",
       "      <td>22.0</td>\n",
       "      <td>424.208848</td>\n",
       "    </tr>\n",
       "    <tr>\n",
       "      <th>28</th>\n",
       "      <td>Шофёр мисс Дэйзи</td>\n",
       "      <td>1989</td>\n",
       "      <td>7.645</td>\n",
       "      <td>99</td>\n",
       "      <td>драма</td>\n",
       "      <td>7.5</td>\n",
       "      <td>145.793296</td>\n",
       "    </tr>\n",
       "    <tr>\n",
       "      <th>29</th>\n",
       "      <td>Человек дождя</td>\n",
       "      <td>1988</td>\n",
       "      <td>8.250</td>\n",
       "      <td>133</td>\n",
       "      <td>драма</td>\n",
       "      <td>25.0</td>\n",
       "      <td>354.825435</td>\n",
       "    </tr>\n",
       "  </tbody>\n",
       "</table>\n",
       "</div>"
      ],
      "text/plain": [
       "                                   Name  Year    Rat  Length  \\\n",
       "0   Форма воды                           2017  6.914     123   \n",
       "1   Лунный свет                          2016  6.151     110   \n",
       "2   В центре внимания                    2015  7.489     129   \n",
       "3   Бёрдмэн                              2014  7.604     119   \n",
       "4   12 лет рабства                       2013  7.710     133   \n",
       "5   Операция «Арго»                      2012  7.517     120   \n",
       "6   Артист                               2011  7.942      96   \n",
       "7   Король говорит!                      2010  7.977     118   \n",
       "8   Повелитель бури                      2008  7.298     126   \n",
       "9   Миллионер из трущоб                  2008  7.724     120   \n",
       "10  Старикам тут не место                2007  7.726     122   \n",
       "11  Отступники                           2006  8.456     151   \n",
       "12  Столкновение                         2004  7.896     108   \n",
       "13  Малышка на миллион                   2004  8.075     132   \n",
       "14  Властелин колец: Возвращение Короля  2003  8.617     201   \n",
       "15  Чикаго                               2002  7.669     113   \n",
       "16  Игры разума                          2001  8.557     135   \n",
       "17  Гладиатор                            2000  8.585     155   \n",
       "18  Красота по-американски               1999  7.965     122   \n",
       "19  Влюбленный Шекспир                   1998  7.452     123   \n",
       "20  Титаник                              1997  8.369     194   \n",
       "21  Английский пациент                   1996  7.849     155   \n",
       "22  Храброе сердце                       1995  8.283     178   \n",
       "23  Форрест Гамп                         1994  8.915     142   \n",
       "24  Список Шиндлера                      1993  8.819     195   \n",
       "25  Непрощенный                          1992  7.858     131   \n",
       "26  Молчание ягнят                       1990  8.335     114   \n",
       "27  Танцующий с волками                  1990  8.112     181   \n",
       "28  Шофёр мисс Дэйзи                     1989  7.645      99   \n",
       "29  Человек дождя                        1988  8.250     133   \n",
       "\n",
       "                                        Genre  Budget   box_office  \n",
       "0   фантастика, драма                            19.4   195.243464  \n",
       "1    драма                                        1.5    65.046687  \n",
       "2     драма, криминал, история                   20.0    88.346473  \n",
       "3               драма, комедия                   18.0   103.215094  \n",
       "4     драма, биография, история                  20.0   178.371993  \n",
       "5     триллер, драма, биография                  44.5   232.324128  \n",
       "6     драма, мелодрама, комедия                  15.0   133.432856  \n",
       "7     драма, биография, история                  15.0   414.211549  \n",
       "8    триллер, драма, военный, история            15.0    49.230772  \n",
       "9               драма, мелодрама                 15.0   377.910544  \n",
       "10    триллер, драма, криминал                   25.0   171.627166  \n",
       "11    триллер, драма, криминал                   90.0   289.847354  \n",
       "12    триллер, драма, криминал                    6.5    98.410061  \n",
       "13               драма, спорт                    30.0   216.763646  \n",
       "14   фэнтези, драма, приключения                 94.0  1119.110941  \n",
       "15    мюзикл, комедия, криминал                  45.0   306.776732  \n",
       "16   драма, биография, мелодрама                 58.0   313.542341  \n",
       "17    боевик, драма, приключения                103.0   457.640427  \n",
       "18              драма                            15.0   356.296601  \n",
       "19   драма, мелодрама, комедия, история          25.0   289.317794  \n",
       "20  драма, мелодрама                            200.0  2185.372302  \n",
       "21   драма, мелодрама, военный                   27.0   231.976425  \n",
       "22  драма, военный, биография, история           72.0   210.409945  \n",
       "23  драма, мелодрама                             55.0   677.386686  \n",
       "24  драма, биография, история                    22.0   321.265768  \n",
       "25  драма, вестерн                               14.4   159.157447  \n",
       "26  триллер, криминал, детектив, драма, ужасы    19.0   272.742922  \n",
       "27   драма, приключения, вестерн                 22.0   424.208848  \n",
       "28  драма                                         7.5   145.793296  \n",
       "29  драма                                        25.0   354.825435  "
      ]
     },
     "execution_count": 70,
     "metadata": {},
     "output_type": "execute_result"
    }
   ],
   "source": [
    "new_data = pd.read_csv('movies.csv')\n",
    "new_data.columns = ['Name','Year', 'Rat', 'Length', 'Genre', 'Budget', 'box_office']\n",
    "#new_data = new_data.drop(index=[14, 20, 23])\n",
    "new_data"
   ]
  },
  {
   "cell_type": "markdown",
   "metadata": {},
   "source": [
    "##### В первой лабораторной рассматавалась ПЛР регрессора Rat (объясняющий фактор - рейтинг) и регрессанат box_office (целевой фактор - итоговые сборы в млн. долл.)"
   ]
  },
  {
   "cell_type": "markdown",
   "metadata": {},
   "source": [
    "##### В качестве дополнительного объясняющего фактора выберем данные Budget, о бюджете в млн. долл. на производство фильма."
   ]
  },
  {
   "cell_type": "code",
   "execution_count": 71,
   "metadata": {},
   "outputs": [],
   "source": [
    "X = np.array(new_data[['Budget', 'Rat']].values)\n",
    "Y = np.array(new_data[['box_office']].values)"
   ]
  },
  {
   "cell_type": "markdown",
   "metadata": {},
   "source": [
    "Построим матрицу корреляций между всеми параметрами данных."
   ]
  },
  {
   "cell_type": "code",
   "execution_count": 72,
   "metadata": {
    "scrolled": true
   },
   "outputs": [
    {
     "data": {
      "text/plain": [
       "<matplotlib.axes._subplots.AxesSubplot at 0x20649c2e0a0>"
      ]
     },
     "execution_count": 72,
     "metadata": {},
     "output_type": "execute_result"
    },
    {
     "data": {
      "image/png": "[encoded data removed]",
      "text/plain": [
       "<Figure size 360x360 with 2 Axes>"
      ]
     },
     "metadata": {
      "needs_background": "light"
     },
     "output_type": "display_data"
    }
   ],
   "source": [
    "plt.figure(figsize = (5, 5))\n",
    "seaborn.heatmap(new_data[['Budget', 'box_office', 'Rat']].corr().abs(), cbar = True, annot=True)"
   ]
  },
  {
   "cell_type": "markdown",
   "metadata": {},
   "source": [
    "Видим сильную корреляцию между признаками \"Budget\" и 'box_office' <br>\n",
    "И слабую корреляцию между 'box_office' и 'Rat' <br>\n",
    "Объясняющие факторы слабо коррелируют между собой"
   ]
  },
  {
   "cell_type": "markdown",
   "metadata": {},
   "source": [
    "### \tПостройте парные линейные регрессии показателя от каждого из факторов, взятых по отдельности. Вычислите коэффициенты обеих ПЛ и коэффициенты детерминации"
   ]
  },
  {
   "cell_type": "code",
   "execution_count": 73,
   "metadata": {},
   "outputs": [
    {
     "data": {
      "text/plain": [
       "LinearRegression()"
      ]
     },
     "execution_count": 73,
     "metadata": {},
     "output_type": "execute_result"
    }
   ],
   "source": [
    "reg = LinearRegression()\n",
    "reg.fit(X[:,0].reshape(-1,1), Y)"
   ]
  },
  {
   "cell_type": "code",
   "execution_count": 74,
   "metadata": {},
   "outputs": [
    {
     "data": {
      "text/plain": [
       "LinearRegression()"
      ]
     },
     "execution_count": 74,
     "metadata": {},
     "output_type": "execute_result"
    }
   ],
   "source": [
    "reg2 = LinearRegression()\n",
    "reg2.fit(X[:,1].reshape(-1,1), Y)"
   ]
  },
  {
   "cell_type": "markdown",
   "metadata": {},
   "source": [
    "#### Коэффициены регресии"
   ]
  },
  {
   "cell_type": "code",
   "execution_count": 75,
   "metadata": {},
   "outputs": [
    {
     "name": "stdout",
     "output_type": "stream",
     "text": [
      "coefs for first feature\n",
      "coef:  8.471216134028769\n",
      "intercept:  26.426158785601217\n",
      "\n",
      "coefs for second feature\n",
      "coef:  299.06290167845907\n",
      "intercept:  -2022.1696914389581\n"
     ]
    }
   ],
   "source": [
    "k , b = reg.coef_[0][0], reg.intercept_[0]\n",
    "print('coefs for first feature')\n",
    "print('coef: ', k)\n",
    "print('intercept: ',  b)\n",
    "k , b = reg2.coef_[0][0], reg2.intercept_[0]\n",
    "print('\\ncoefs for second feature')\n",
    "print('coef: ', k)\n",
    "print('intercept: ',  b)"
   ]
  },
  {
   "cell_type": "markdown",
   "metadata": {},
   "source": [
    "##### Вычислим коэф. детерминации. <br>\n",
    "Видно, что процент объяснённой дисперсии невысок для обоих факторов."
   ]
  },
  {
   "cell_type": "code",
   "execution_count": 76,
   "metadata": {},
   "outputs": [
    {
     "name": "stdout",
     "output_type": "stream",
     "text": [
      "r^2 для первого признака:  0.7206343300368265\n",
      "r^2 для второго признака:  0.18021440564556068\n"
     ]
    }
   ],
   "source": [
    "print('r^2 для первого признака: ', reg.score(X[:,0].reshape(-1,1), Y))\n",
    "print('r^2 для второго признака: ', reg2.score(X[:,1].reshape(-1,1), Y))"
   ]
  },
  {
   "cell_type": "markdown",
   "metadata": {},
   "source": [
    "### Вычислите коэффициенты уравнения множественной линейной регрессии в матричной форме, запишите уравнение регрессии в развёрнутой форме."
   ]
  },
  {
   "cell_type": "code",
   "execution_count": 77,
   "metadata": {},
   "outputs": [],
   "source": [
    "X_with_const = sm.add_constant(X)"
   ]
  },
  {
   "cell_type": "code",
   "execution_count": 78,
   "metadata": {},
   "outputs": [],
   "source": [
    "w = np.linalg.inv((X_with_const.T).dot(X_with_const)).dot(X_with_const.T).dot(Y)"
   ]
  },
  {
   "cell_type": "code",
   "execution_count": 79,
   "metadata": {},
   "outputs": [
    {
     "name": "stdout",
     "output_type": "stream",
     "text": [
      "[[-70.18797147]\n",
      " [  8.38481229]\n",
      " [ 12.60444655]]\n"
     ]
    }
   ],
   "source": [
    "print(w)"
   ]
  },
  {
   "cell_type": "code",
   "execution_count": 80,
   "metadata": {},
   "outputs": [
    {
     "name": "stdout",
     "output_type": "stream",
     "text": [
      "-70.18797146656243 + 8.384812287299871 *a + 12.604446553946104 *b\n"
     ]
    }
   ],
   "source": [
    "print(w[0][0],'+', w[1][0],'*a +', w[2][0], '*b')"
   ]
  },
  {
   "cell_type": "markdown",
   "metadata": {},
   "source": [
    "### Вычислите расчетные значения показателя и остатки."
   ]
  },
  {
   "cell_type": "code",
   "execution_count": 81,
   "metadata": {},
   "outputs": [],
   "source": [
    "pred = X_with_const.dot(w) "
   ]
  },
  {
   "cell_type": "code",
   "execution_count": 82,
   "metadata": {},
   "outputs": [],
   "source": [
    "tail = Y - pred"
   ]
  },
  {
   "cell_type": "markdown",
   "metadata": {},
   "source": [
    "### Вычислите и сравните частные и парные коэффициенты корреляции.\n",
    "Коэффициенты парной корреляции:"
   ]
  },
  {
   "cell_type": "code",
   "execution_count": 83,
   "metadata": {},
   "outputs": [
    {
     "name": "stdout",
     "output_type": "stream",
     "text": [
      "              Budget  box_office       Rat\n",
      "Budget      1.000000    0.848902  0.483937\n",
      "box_office  0.848902    1.000000  0.424517\n",
      "Rat         0.483937    0.424517  1.000000\n"
     ]
    }
   ],
   "source": [
    "corrs = new_data[['Budget', 'box_office', 'Rat']].corr()\n",
    "print(corrs)\n",
    "corrs = np.array(corrs)"
   ]
  },
  {
   "cell_type": "markdown",
   "metadata": {},
   "source": [
    "Коэффициенты частной корреляции:"
   ]
  },
  {
   "cell_type": "code",
   "execution_count": 90,
   "metadata": {
    "scrolled": true
   },
   "outputs": [
    {
     "name": "stdout",
     "output_type": "stream",
     "text": [
      "r(yx1|x2):  0.2581994082422286\n",
      "r(yx2|x1):  0.029622968311098473\n"
     ]
    }
   ],
   "source": [
    "print('r(yx1|x2): ', (corrs[0,2] - corrs[1,2]*corrs[1,0]) / ((1-corrs[1,2]**2)*(1-corrs[1,0]**2))**.5)\n",
    "print('r(yx2|x1): ', (corrs[1,2] - corrs[0,2]*corrs[1,0]) / ((1-corrs[0,2]**2)*(1-corrs[1,0]**2))**.5)"
   ]
  },
  {
   "cell_type": "markdown",
   "metadata": {},
   "source": [
    "Отсюда видно, что второй признак почти не оказывает влияния на регрессант."
   ]
  },
  {
   "cell_type": "markdown",
   "metadata": {},
   "source": [
    "### Найдите величину средней относительной ошибки аппроксимации и оценку для дисперсии остатков.\n",
    "Величина средней относительной ошибки находится на уровне 56%, что является плохим результатом."
   ]
  },
  {
   "cell_type": "code",
   "execution_count": 85,
   "metadata": {},
   "outputs": [
    {
     "name": "stdout",
     "output_type": "stream",
     "text": [
      "Средняя относительная ошибка аппроксимации:  56.08238393442419 %\n",
      "Несмещённая оценка дисперсии остатков:  210.137972064464\n"
     ]
    }
   ],
   "source": [
    "mape = np.mean(np.abs((tail) / Y)) * 100\n",
    "print('Средняя относительная ошибка аппроксимации: ', mape,'%')\n",
    "print('Несмещённая оценка дисперсии остатков: ', np.std(tail))"
   ]
  },
  {
   "cell_type": "code",
   "execution_count": 86,
   "metadata": {},
   "outputs": [
    {
     "name": "stdout",
     "output_type": "stream",
     "text": [
      "r^2 для первого признака:  0.7206343300368265\n",
      "r^2 для второго признака:  0.18021440564556068\n"
     ]
    }
   ],
   "source": [
    "print('r^2 для первого признака: ', reg.score(X[:,0].reshape(-1,1), Y))\n",
    "print('r^2 для второго признака: ', reg2.score(X[:,1].reshape(-1,1), Y))"
   ]
  },
  {
   "cell_type": "markdown",
   "metadata": {},
   "source": [
    "### Вычислите множественный коэффициент детерминации и сравните его  с коэффициентами детерминации найденных ранее ПЛ. Вычислите коэффициент детерминации Тейла"
   ]
  },
  {
   "cell_type": "code",
   "execution_count": 87,
   "metadata": {},
   "outputs": [
    {
     "data": {
      "text/html": [
       "<table class=\"simpletable\">\n",
       "<caption>OLS Regression Results</caption>\n",
       "<tr>\n",
       "  <th>Dep. Variable:</th>            <td>y</td>        <th>  R-squared:         </th> <td>   0.721</td>\n",
       "</tr>\n",
       "<tr>\n",
       "  <th>Model:</th>                   <td>OLS</td>       <th>  Adj. R-squared:    </th> <td>   0.700</td>\n",
       "</tr>\n",
       "<tr>\n",
       "  <th>Method:</th>             <td>Least Squares</td>  <th>  F-statistic:       </th> <td>   34.87</td>\n",
       "</tr>\n",
       "<tr>\n",
       "  <th>Date:</th>             <td>Mon, 11 Jan 2021</td> <th>  Prob (F-statistic):</th> <td>3.30e-08</td>\n",
       "</tr>\n",
       "<tr>\n",
       "  <th>Time:</th>                 <td>18:28:03</td>     <th>  Log-Likelihood:    </th> <td> -203.00</td>\n",
       "</tr>\n",
       "<tr>\n",
       "  <th>No. Observations:</th>      <td>    30</td>      <th>  AIC:               </th> <td>   412.0</td>\n",
       "</tr>\n",
       "<tr>\n",
       "  <th>Df Residuals:</th>          <td>    27</td>      <th>  BIC:               </th> <td>   416.2</td>\n",
       "</tr>\n",
       "<tr>\n",
       "  <th>Df Model:</th>              <td>     2</td>      <th>                     </th>     <td> </td>   \n",
       "</tr>\n",
       "<tr>\n",
       "  <th>Covariance Type:</th>      <td>nonrobust</td>    <th>                     </th>     <td> </td>   \n",
       "</tr>\n",
       "</table>\n",
       "<table class=\"simpletable\">\n",
       "<tr>\n",
       "    <td></td>       <th>coef</th>     <th>std err</th>      <th>t</th>      <th>P>|t|</th>  <th>[0.025</th>    <th>0.975]</th>  \n",
       "</tr>\n",
       "<tr>\n",
       "  <th>const</th> <td>  -70.1880</td> <td>  629.874</td> <td>   -0.111</td> <td> 0.912</td> <td>-1362.582</td> <td> 1222.206</td>\n",
       "</tr>\n",
       "<tr>\n",
       "  <th>x1</th>    <td>    8.3848</td> <td>    1.159</td> <td>    7.232</td> <td> 0.000</td> <td>    6.006</td> <td>   10.764</td>\n",
       "</tr>\n",
       "<tr>\n",
       "  <th>x2</th>    <td>   12.6044</td> <td>   81.851</td> <td>    0.154</td> <td> 0.879</td> <td> -155.339</td> <td>  180.548</td>\n",
       "</tr>\n",
       "</table>\n",
       "<table class=\"simpletable\">\n",
       "<tr>\n",
       "  <th>Omnibus:</th>       <td> 2.628</td> <th>  Durbin-Watson:     </th> <td>   2.051</td>\n",
       "</tr>\n",
       "<tr>\n",
       "  <th>Prob(Omnibus):</th> <td> 0.269</td> <th>  Jarque-Bera (JB):  </th> <td>   1.374</td>\n",
       "</tr>\n",
       "<tr>\n",
       "  <th>Skew:</th>          <td>-0.447</td> <th>  Prob(JB):          </th> <td>   0.503</td>\n",
       "</tr>\n",
       "<tr>\n",
       "  <th>Kurtosis:</th>      <td> 3.548</td> <th>  Cond. No.          </th> <td>    869.</td>\n",
       "</tr>\n",
       "</table><br/><br/>Warnings:<br/>[1] Standard Errors assume that the covariance matrix of the errors is correctly specified."
      ],
      "text/plain": [
       "<class 'statsmodels.iolib.summary.Summary'>\n",
       "\"\"\"\n",
       "                            OLS Regression Results                            \n",
       "==============================================================================\n",
       "Dep. Variable:                      y   R-squared:                       0.721\n",
       "Model:                            OLS   Adj. R-squared:                  0.700\n",
       "Method:                 Least Squares   F-statistic:                     34.87\n",
       "Date:                Mon, 11 Jan 2021   Prob (F-statistic):           3.30e-08\n",
       "Time:                        18:28:03   Log-Likelihood:                -203.00\n",
       "No. Observations:                  30   AIC:                             412.0\n",
       "Df Residuals:                      27   BIC:                             416.2\n",
       "Df Model:                           2                                         \n",
       "Covariance Type:            nonrobust                                         \n",
       "==============================================================================\n",
       "                 coef    std err          t      P>|t|      [0.025      0.975]\n",
       "------------------------------------------------------------------------------\n",
       "const        -70.1880    629.874     -0.111      0.912   -1362.582    1222.206\n",
       "x1             8.3848      1.159      7.232      0.000       6.006      10.764\n",
       "x2            12.6044     81.851      0.154      0.879    -155.339     180.548\n",
       "==============================================================================\n",
       "Omnibus:                        2.628   Durbin-Watson:                   2.051\n",
       "Prob(Omnibus):                  0.269   Jarque-Bera (JB):                1.374\n",
       "Skew:                          -0.447   Prob(JB):                        0.503\n",
       "Kurtosis:                       3.548   Cond. No.                         869.\n",
       "==============================================================================\n",
       "\n",
       "Warnings:\n",
       "[1] Standard Errors assume that the covariance matrix of the errors is correctly specified.\n",
       "\"\"\""
      ]
     },
     "execution_count": 87,
     "metadata": {},
     "output_type": "execute_result"
    }
   ],
   "source": [
    "est = sm.OLS(Y, X_with_const)\n",
    "est2 = est.fit()\n",
    "est.fit().summary()"
   ]
  },
  {
   "cell_type": "markdown",
   "metadata": {},
   "source": [
    "Коэф. Тейла = 0.7 ниже чем коэф. детерминации = 0.721 для парной регресии.<br>\n",
    "Коэф. детерминации для одиночной регрессии почти такой же как для парной. Что говорит о том, что второй признак почти не влияет на целевую переменную."
   ]
  },
  {
   "cell_type": "markdown",
   "metadata": {},
   "source": [
    "### Проверьте статистическую значимость полученных значений параметров регрессии с помощью критерия Стьюдента и критерия Фишера."
   ]
  },
  {
   "cell_type": "markdown",
   "metadata": {},
   "source": [
    "#### Критерий Стьюдента\n",
    "\n",
    "p_val_const = 0.912 > 0.05 => значит константный признак незначимый <br>\n",
    "\n",
    "p_val_x1 < 0.05 => признак значимый <br>\n",
    "\n",
    "p_val_x2 > 0.05 => признак не значимый\n",
    "\n",
    "#### Критерий Фишера \n",
    "F_prob = 3.30e-08 < 0.05 => данное построенное уравнение МЛР является статичтически значимым"
   ]
  },
  {
   "cell_type": "markdown",
   "metadata": {},
   "source": [
    "### Постройте точечный прогноз значения y для фиксированного x. Вычислите стандартную ошибку и доверительный интервал полученного прогноза."
   ]
  },
  {
   "cell_type": "code",
   "execution_count": 91,
   "metadata": {},
   "outputs": [
    {
     "data": {
      "text/html": [
       "<div>\n",
       "<style scoped>\n",
       "    .dataframe tbody tr th:only-of-type {\n",
       "        vertical-align: middle;\n",
       "    }\n",
       "\n",
       "    .dataframe tbody tr th {\n",
       "        vertical-align: top;\n",
       "    }\n",
       "\n",
       "    .dataframe thead th {\n",
       "        text-align: right;\n",
       "    }\n",
       "</style>\n",
       "<table border=\"1\" class=\"dataframe\">\n",
       "  <thead>\n",
       "    <tr style=\"text-align: right;\">\n",
       "      <th></th>\n",
       "      <th>mean</th>\n",
       "      <th>mean_se</th>\n",
       "      <th>mean_ci_lower</th>\n",
       "      <th>mean_ci_upper</th>\n",
       "    </tr>\n",
       "  </thead>\n",
       "  <tbody>\n",
       "    <tr>\n",
       "      <th>0</th>\n",
       "      <td>179.62453</td>\n",
       "      <td>85.007856</td>\n",
       "      <td>5.202817</td>\n",
       "      <td>354.046243</td>\n",
       "    </tr>\n",
       "  </tbody>\n",
       "</table>\n",
       "</div>"
      ],
      "text/plain": [
       "        mean    mean_se  mean_ci_lower  mean_ci_upper\n",
       "0  179.62453  85.007856       5.202817     354.046243"
      ]
     },
     "execution_count": 91,
     "metadata": {},
     "output_type": "execute_result"
    }
   ],
   "source": [
    "est2.get_prediction(X_with_const[0]).summary_frame()[['mean', 'mean_se','mean_ci_lower','mean_ci_upper']]"
   ]
  },
  {
   "cell_type": "markdown",
   "metadata": {},
   "source": [
    "mean - точечный прогноз значения Y = 179.62453\n",
    "\n",
    "mean_se - стандартная ошибка = 85.007856\n",
    "\n",
    "доверительный интервал:<br>\n",
    "Нижняя граница - mean_ci_lower = 5.202817\t<br>\n",
    "Верхняя граница - mean_ci_upper = 354.046243"
   ]
  }
 ],
 "metadata": {
  "kernelspec": {
   "display_name": "Python 3",
   "language": "python",
   "name": "python3"
  },
  "language_info": {
   "codemirror_mode": {
    "name": "ipython",
    "version": 3
   },
   "file_extension": ".py",
   "mimetype": "text/x-python",
   "name": "python",
   "nbconvert_exporter": "python",
   "pygments_lexer": "ipython3",
   "version": "3.8.3"
  }
 },
 "nbformat": 4,
 "nbformat_minor": 4
}
